{
 "cells": [
  {
   "cell_type": "markdown",
   "id": "a22bcaa7-927a-4ac1-bf47-1591367540cb",
   "metadata": {},
   "source": [
    "# Lab | Making predictions with logistic regression"
   ]
  },
  {
   "cell_type": "markdown",
   "id": "1bdc113d-4e78-4380-b6ae-bacbeb9c29a1",
   "metadata": {},
   "source": [
    "In order to optimize our inventory, we would like to predict if a film will have more monthly rentals in July than in June. Create a model to predict it."
   ]
  },
  {
   "cell_type": "markdown",
   "id": "77295888-4658-4c11-b69f-2ea168cb624b",
   "metadata": {},
   "source": [
    "1. Create a query or queries to extract the information you think may be relevant for building the prediction model. It should include some film features and some rental features. Use the data from 2005."
   ]
  },
  {
   "cell_type": "code",
   "execution_count": 307,
   "id": "228ad51d-4118-4b9a-bf4b-c8e71f76606b",
   "metadata": {},
   "outputs": [
    {
     "name": "stdin",
     "output_type": "stream",
     "text": [
      " ········\n"
     ]
    }
   ],
   "source": [
    "import pymysql\n",
    "from sqlalchemy import create_engine\n",
    "import pandas as pd\n",
    "import getpass  # To get the password without showing the input\n",
    "password = getpass.getpass()"
   ]
  },
  {
   "cell_type": "code",
   "execution_count": 526,
   "id": "35851953-3b3e-44a4-876d-9497c9d09f6d",
   "metadata": {},
   "outputs": [
    {
     "data": {
      "text/plain": [
       "(16045, 5)"
      ]
     },
     "execution_count": 526,
     "metadata": {},
     "output_type": "execute_result"
    }
   ],
   "source": [
    "connection_string = 'mysql+pymysql://root:' + password + '@localhost/sakila'\n",
    "engine = create_engine(connection_string)\n",
    "query = '''SELECT cat.name as genre, f.length film_length, f.rating, f.release_year, i.store_id as store\n",
    "FROM sakila.rental r\n",
    "JOIN sakila.inventory i\n",
    "ON r.inventory_id = i.inventory_id\n",
    "JOIN sakila.film f\n",
    "ON i.film_id = f.film_id\n",
    "JOIN sakila.film_category fc\n",
    "ON f.film_id = fc.film_id\n",
    "JOIN sakila.category cat\n",
    "ON fc.category_id = cat.category_id\n",
    ";'''\n",
    "\n",
    "data = pd.read_sql_query(query, engine)\n",
    "data.head()\n",
    "data.shape"
   ]
  },
  {
   "cell_type": "markdown",
   "id": "7d5aaa78-f89d-47c4-adc8-93536cd25160",
   "metadata": {},
   "source": [
    "2. Create a query to get the total amount of rentals in June for each film. "
   ]
  },
  {
   "cell_type": "code",
   "execution_count": 524,
   "id": "ae7d4237-f2bf-4af9-a572-e9d03707c405",
   "metadata": {},
   "outputs": [
    {
     "data": {
      "text/html": [
       "<div>\n",
       "<style scoped>\n",
       "    .dataframe tbody tr th:only-of-type {\n",
       "        vertical-align: middle;\n",
       "    }\n",
       "\n",
       "    .dataframe tbody tr th {\n",
       "        vertical-align: top;\n",
       "    }\n",
       "\n",
       "    .dataframe thead th {\n",
       "        text-align: right;\n",
       "    }\n",
       "</style>\n",
       "<table border=\"1\" class=\"dataframe\">\n",
       "  <thead>\n",
       "    <tr style=\"text-align: right;\">\n",
       "      <th></th>\n",
       "      <th>film_id</th>\n",
       "      <th>COUNT(r.inventory_id)</th>\n",
       "    </tr>\n",
       "  </thead>\n",
       "  <tbody>\n",
       "    <tr>\n",
       "      <th>0</th>\n",
       "      <td>1</td>\n",
       "      <td>3</td>\n",
       "    </tr>\n",
       "    <tr>\n",
       "      <th>1</th>\n",
       "      <td>3</td>\n",
       "      <td>1</td>\n",
       "    </tr>\n",
       "    <tr>\n",
       "      <th>2</th>\n",
       "      <td>4</td>\n",
       "      <td>2</td>\n",
       "    </tr>\n",
       "    <tr>\n",
       "      <th>3</th>\n",
       "      <td>5</td>\n",
       "      <td>2</td>\n",
       "    </tr>\n",
       "    <tr>\n",
       "      <th>4</th>\n",
       "      <td>6</td>\n",
       "      <td>3</td>\n",
       "    </tr>\n",
       "  </tbody>\n",
       "</table>\n",
       "</div>"
      ],
      "text/plain": [
       "   film_id  COUNT(r.inventory_id)\n",
       "0        1                      3\n",
       "1        3                      1\n",
       "2        4                      2\n",
       "3        5                      2\n",
       "4        6                      3"
      ]
     },
     "execution_count": 524,
     "metadata": {},
     "output_type": "execute_result"
    }
   ],
   "source": [
    "query = '''SELECT i.film_id, COUNT(r.inventory_id)\n",
    "FROM sakila.rental r\n",
    "JOIN sakila.inventory i\n",
    "ON r.inventory_id = i.inventory_id\n",
    "WHERE LEFT(r.rental_date, 7) = '2005-06' \n",
    "GROUP BY  i.film_id;  ''' \n",
    "\n",
    "june = pd.read_sql_query(query, engine)\n",
    "june.head()"
   ]
  },
  {
   "cell_type": "markdown",
   "id": "b0f2cc98-164a-43d1-a613-4c909bf5ccca",
   "metadata": {},
   "source": [
    "3. Do the same with July. "
   ]
  },
  {
   "cell_type": "code",
   "execution_count": 522,
   "id": "a04dc8fc-e096-47a7-b859-027b846d1a0b",
   "metadata": {},
   "outputs": [
    {
     "data": {
      "text/html": [
       "<div>\n",
       "<style scoped>\n",
       "    .dataframe tbody tr th:only-of-type {\n",
       "        vertical-align: middle;\n",
       "    }\n",
       "\n",
       "    .dataframe tbody tr th {\n",
       "        vertical-align: top;\n",
       "    }\n",
       "\n",
       "    .dataframe thead th {\n",
       "        text-align: right;\n",
       "    }\n",
       "</style>\n",
       "<table border=\"1\" class=\"dataframe\">\n",
       "  <thead>\n",
       "    <tr style=\"text-align: right;\">\n",
       "      <th></th>\n",
       "      <th>film_id</th>\n",
       "      <th>COUNT(r.inventory_id)</th>\n",
       "    </tr>\n",
       "  </thead>\n",
       "  <tbody>\n",
       "    <tr>\n",
       "      <th>0</th>\n",
       "      <td>1</td>\n",
       "      <td>9</td>\n",
       "    </tr>\n",
       "    <tr>\n",
       "      <th>1</th>\n",
       "      <td>2</td>\n",
       "      <td>2</td>\n",
       "    </tr>\n",
       "    <tr>\n",
       "      <th>2</th>\n",
       "      <td>3</td>\n",
       "      <td>4</td>\n",
       "    </tr>\n",
       "    <tr>\n",
       "      <th>3</th>\n",
       "      <td>4</td>\n",
       "      <td>12</td>\n",
       "    </tr>\n",
       "    <tr>\n",
       "      <th>4</th>\n",
       "      <td>5</td>\n",
       "      <td>5</td>\n",
       "    </tr>\n",
       "  </tbody>\n",
       "</table>\n",
       "</div>"
      ],
      "text/plain": [
       "   film_id  COUNT(r.inventory_id)\n",
       "0        1                      9\n",
       "1        2                      2\n",
       "2        3                      4\n",
       "3        4                     12\n",
       "4        5                      5"
      ]
     },
     "execution_count": 522,
     "metadata": {},
     "output_type": "execute_result"
    }
   ],
   "source": [
    "query= '''SELECT i.film_id, COUNT(r.inventory_id)\n",
    "FROM sakila.rental r\n",
    "JOIN sakila.inventory i\n",
    "ON r.inventory_id = i.inventory_id\n",
    "WHERE LEFT(r.rental_date, 7) = '2005-07' \n",
    "GROUP BY  i.film_id\n",
    "'''\n",
    "\n",
    "july = pd.read_sql_query(query, engine)\n",
    "july.head()"
   ]
  },
  {
   "cell_type": "markdown",
   "id": "d58b1dc8-81e3-4601-8c44-7c728272c6ec",
   "metadata": {},
   "source": [
    "4. Create a new column containing (Yes/No) for each film whether or not the number of monthly rentals in **July was bigger than in June**. Your objective will be to predict this new column."
   ]
  },
  {
   "cell_type": "code",
   "execution_count": 525,
   "id": "e4f0d51e-5c38-4016-bc33-f84c8d9c95ac",
   "metadata": {},
   "outputs": [
    {
     "data": {
      "text/html": [
       "<div>\n",
       "<style scoped>\n",
       "    .dataframe tbody tr th:only-of-type {\n",
       "        vertical-align: middle;\n",
       "    }\n",
       "\n",
       "    .dataframe tbody tr th {\n",
       "        vertical-align: top;\n",
       "    }\n",
       "\n",
       "    .dataframe thead th {\n",
       "        text-align: right;\n",
       "    }\n",
       "</style>\n",
       "<table border=\"1\" class=\"dataframe\">\n",
       "  <thead>\n",
       "    <tr style=\"text-align: right;\">\n",
       "      <th></th>\n",
       "      <th>rent_june</th>\n",
       "      <th>film_id</th>\n",
       "      <th>rent_july</th>\n",
       "    </tr>\n",
       "  </thead>\n",
       "  <tbody>\n",
       "    <tr>\n",
       "      <th>0</th>\n",
       "      <td>3.0</td>\n",
       "      <td>1</td>\n",
       "      <td>9</td>\n",
       "    </tr>\n",
       "    <tr>\n",
       "      <th>1</th>\n",
       "      <td>1.0</td>\n",
       "      <td>2</td>\n",
       "      <td>2</td>\n",
       "    </tr>\n",
       "    <tr>\n",
       "      <th>2</th>\n",
       "      <td>2.0</td>\n",
       "      <td>3</td>\n",
       "      <td>4</td>\n",
       "    </tr>\n",
       "    <tr>\n",
       "      <th>3</th>\n",
       "      <td>2.0</td>\n",
       "      <td>4</td>\n",
       "      <td>12</td>\n",
       "    </tr>\n",
       "    <tr>\n",
       "      <th>4</th>\n",
       "      <td>3.0</td>\n",
       "      <td>5</td>\n",
       "      <td>5</td>\n",
       "    </tr>\n",
       "  </tbody>\n",
       "</table>\n",
       "</div>"
      ],
      "text/plain": [
       "   rent_june  film_id  rent_july\n",
       "0        3.0        1          9\n",
       "1        1.0        2          2\n",
       "2        2.0        3          4\n",
       "3        2.0        4         12\n",
       "4        3.0        5          5"
      ]
     },
     "execution_count": 525,
     "metadata": {},
     "output_type": "execute_result"
    }
   ],
   "source": [
    "import numpy as np\n",
    "\n",
    "#Drop film_id from smaller df to avoid NaNs\n",
    "\n",
    "june.drop('film_id', axis = 1, inplace = True)\n",
    "df = pd.concat(([june, july]), axis = 1).reset_index()\n",
    "\n",
    "\n",
    "#After reseting the index I drop the Column INDEX and rename the other column names\n",
    "\n",
    "df.drop(df.columns[[0]], axis = 1, inplace=True)\n",
    "df.columns = ['rent_june', 'film_id', 'rent_july']\n",
    "\n",
    "df.head()"
   ]
  },
  {
   "cell_type": "code",
   "execution_count": 313,
   "id": "e0e896eb",
   "metadata": {},
   "outputs": [
    {
     "data": {
      "text/html": [
       "<div>\n",
       "<style scoped>\n",
       "    .dataframe tbody tr th:only-of-type {\n",
       "        vertical-align: middle;\n",
       "    }\n",
       "\n",
       "    .dataframe tbody tr th {\n",
       "        vertical-align: top;\n",
       "    }\n",
       "\n",
       "    .dataframe thead th {\n",
       "        text-align: right;\n",
       "    }\n",
       "</style>\n",
       "<table border=\"1\" class=\"dataframe\">\n",
       "  <thead>\n",
       "    <tr style=\"text-align: right;\">\n",
       "      <th></th>\n",
       "      <th>rent_june</th>\n",
       "      <th>film_id</th>\n",
       "      <th>rent_july</th>\n",
       "      <th>YES/NO</th>\n",
       "    </tr>\n",
       "  </thead>\n",
       "  <tbody>\n",
       "    <tr>\n",
       "      <th>0</th>\n",
       "      <td>3.0</td>\n",
       "      <td>1</td>\n",
       "      <td>9</td>\n",
       "      <td>YES</td>\n",
       "    </tr>\n",
       "    <tr>\n",
       "      <th>1</th>\n",
       "      <td>1.0</td>\n",
       "      <td>2</td>\n",
       "      <td>2</td>\n",
       "      <td>YES</td>\n",
       "    </tr>\n",
       "    <tr>\n",
       "      <th>2</th>\n",
       "      <td>2.0</td>\n",
       "      <td>3</td>\n",
       "      <td>4</td>\n",
       "      <td>YES</td>\n",
       "    </tr>\n",
       "    <tr>\n",
       "      <th>3</th>\n",
       "      <td>2.0</td>\n",
       "      <td>4</td>\n",
       "      <td>12</td>\n",
       "      <td>YES</td>\n",
       "    </tr>\n",
       "    <tr>\n",
       "      <th>4</th>\n",
       "      <td>3.0</td>\n",
       "      <td>5</td>\n",
       "      <td>5</td>\n",
       "      <td>YES</td>\n",
       "    </tr>\n",
       "  </tbody>\n",
       "</table>\n",
       "</div>"
      ],
      "text/plain": [
       "   rent_june  film_id  rent_july YES/NO\n",
       "0        3.0        1          9    YES\n",
       "1        1.0        2          2    YES\n",
       "2        2.0        3          4    YES\n",
       "3        2.0        4         12    YES\n",
       "4        3.0        5          5    YES"
      ]
     },
     "execution_count": 313,
     "metadata": {},
     "output_type": "execute_result"
    }
   ],
   "source": [
    "#df['film_id'].isna()\n",
    "\n",
    "\n",
    "# Add new column with condition: \n",
    "    \n",
    "\n",
    "df['YES/NO'] = ['YES'if df['rent_june'][i] < df['rent_july'][i] else 'NO' for i in range(len(df['film_id']))]\n",
    "df['YES/NO'].unique()\n",
    "\n",
    "dfy = df.copy() \n",
    "dfy.head()\n"
   ]
  },
  {
   "cell_type": "markdown",
   "id": "5a6fd85f",
   "metadata": {},
   "source": [
    "6.Read the data into a Pandas dataframe."
   ]
  },
  {
   "cell_type": "code",
   "execution_count": 314,
   "id": "ab7d23dd",
   "metadata": {},
   "outputs": [
    {
     "data": {
      "text/html": [
       "<div>\n",
       "<style scoped>\n",
       "    .dataframe tbody tr th:only-of-type {\n",
       "        vertical-align: middle;\n",
       "    }\n",
       "\n",
       "    .dataframe tbody tr th {\n",
       "        vertical-align: top;\n",
       "    }\n",
       "\n",
       "    .dataframe thead th {\n",
       "        text-align: right;\n",
       "    }\n",
       "</style>\n",
       "<table border=\"1\" class=\"dataframe\">\n",
       "  <thead>\n",
       "    <tr style=\"text-align: right;\">\n",
       "      <th></th>\n",
       "      <th>genre</th>\n",
       "      <th>film_length</th>\n",
       "      <th>film_id</th>\n",
       "      <th>inventory_id</th>\n",
       "      <th>rating</th>\n",
       "      <th>release_year</th>\n",
       "    </tr>\n",
       "  </thead>\n",
       "  <tbody>\n",
       "    <tr>\n",
       "      <th>0</th>\n",
       "      <td>Action</td>\n",
       "      <td>113</td>\n",
       "      <td>19</td>\n",
       "      <td>94</td>\n",
       "      <td>PG</td>\n",
       "      <td>2006</td>\n",
       "    </tr>\n",
       "    <tr>\n",
       "      <th>1</th>\n",
       "      <td>Action</td>\n",
       "      <td>113</td>\n",
       "      <td>19</td>\n",
       "      <td>94</td>\n",
       "      <td>PG</td>\n",
       "      <td>2006</td>\n",
       "    </tr>\n",
       "    <tr>\n",
       "      <th>2</th>\n",
       "      <td>Action</td>\n",
       "      <td>113</td>\n",
       "      <td>19</td>\n",
       "      <td>94</td>\n",
       "      <td>PG</td>\n",
       "      <td>2006</td>\n",
       "    </tr>\n",
       "    <tr>\n",
       "      <th>3</th>\n",
       "      <td>Action</td>\n",
       "      <td>113</td>\n",
       "      <td>19</td>\n",
       "      <td>95</td>\n",
       "      <td>PG</td>\n",
       "      <td>2006</td>\n",
       "    </tr>\n",
       "    <tr>\n",
       "      <th>4</th>\n",
       "      <td>Action</td>\n",
       "      <td>113</td>\n",
       "      <td>19</td>\n",
       "      <td>95</td>\n",
       "      <td>PG</td>\n",
       "      <td>2006</td>\n",
       "    </tr>\n",
       "  </tbody>\n",
       "</table>\n",
       "</div>"
      ],
      "text/plain": [
       "    genre  film_length  film_id  inventory_id rating  release_year\n",
       "0  Action          113       19            94     PG          2006\n",
       "1  Action          113       19            94     PG          2006\n",
       "2  Action          113       19            94     PG          2006\n",
       "3  Action          113       19            95     PG          2006\n",
       "4  Action          113       19            95     PG          2006"
      ]
     },
     "metadata": {},
     "output_type": "display_data"
    },
    {
     "data": {
      "text/html": [
       "<div>\n",
       "<style scoped>\n",
       "    .dataframe tbody tr th:only-of-type {\n",
       "        vertical-align: middle;\n",
       "    }\n",
       "\n",
       "    .dataframe tbody tr th {\n",
       "        vertical-align: top;\n",
       "    }\n",
       "\n",
       "    .dataframe thead th {\n",
       "        text-align: right;\n",
       "    }\n",
       "</style>\n",
       "<table border=\"1\" class=\"dataframe\">\n",
       "  <thead>\n",
       "    <tr style=\"text-align: right;\">\n",
       "      <th></th>\n",
       "      <th>YES/NO</th>\n",
       "    </tr>\n",
       "  </thead>\n",
       "  <tbody>\n",
       "    <tr>\n",
       "      <th>0</th>\n",
       "      <td>YES</td>\n",
       "    </tr>\n",
       "    <tr>\n",
       "      <th>1</th>\n",
       "      <td>YES</td>\n",
       "    </tr>\n",
       "    <tr>\n",
       "      <th>2</th>\n",
       "      <td>YES</td>\n",
       "    </tr>\n",
       "    <tr>\n",
       "      <th>3</th>\n",
       "      <td>YES</td>\n",
       "    </tr>\n",
       "    <tr>\n",
       "      <th>4</th>\n",
       "      <td>YES</td>\n",
       "    </tr>\n",
       "  </tbody>\n",
       "</table>\n",
       "</div>"
      ],
      "text/plain": [
       "  YES/NO\n",
       "0    YES\n",
       "1    YES\n",
       "2    YES\n",
       "3    YES\n",
       "4    YES"
      ]
     },
     "metadata": {},
     "output_type": "display_data"
    },
    {
     "name": "stdout",
     "output_type": "stream",
     "text": [
      "(958, 4)\n",
      "(9020, 6)\n"
     ]
    }
   ],
   "source": [
    "## Imported another SET after realizing that the first query was for all films ever rented. \n",
    "## I contraint the query to June and July in order to be able to combine the YES/NO column\n",
    "\n",
    "\n",
    "query = '''\n",
    "SELECT cat.name as genre, f.length film_length, f.film_id, r.inventory_id, f.rating, f.release_year\n",
    "FROM sakila.rental r\n",
    "JOIN sakila.inventory i\n",
    "ON r.inventory_id = i.inventory_id\n",
    "JOIN sakila.film f\n",
    "ON i.film_id = f.film_id\n",
    "JOIN sakila.film_category fc\n",
    "ON f.film_id = fc.film_id\n",
    "JOIN sakila.category cat\n",
    "ON fc.category_id = cat.category_id\n",
    "WHERE LEFT(r.rental_date, 7) = '2005-06' OR LEFT(r.rental_date, 7) = '2005-07' ;\n",
    "'''\n",
    "\n",
    "dfx = pd.read_sql_query(query, engine)\n",
    "\n",
    "\n",
    "display(dfx.head())\n",
    "display(y.head())\n",
    "\n",
    "print(dfy.shape)\n",
    "print(dfx.shape)\n",
    "\n",
    "    \n",
    "\n",
    "\n",
    "\n"
   ]
  },
  {
   "cell_type": "code",
   "execution_count": 338,
   "id": "8a84ad50-830e-4b65-b6b6-087e59549d21",
   "metadata": {},
   "outputs": [],
   "source": [
    "# I want to lable each film that was rented in June and July with YES/NO \n",
    "# --> Compare the film_ids and add a new column corresponding to the YES/No column for that film_id\n",
    "\n",
    "#APPROACH: Using the index to extract corresponding Y/N\n",
    "\n",
    "i = []\n",
    "for elem in (dfx['film_id']):\n",
    "    i.append(dfy[dfy.film_id == elem].index.item())    \n",
    "    \n",
    "def yes(x):\n",
    "    return y['YES/NO'][x]   \n",
    "    \n",
    "dfx['YES/NO'] = list(map(yes, i))   "
   ]
  },
  {
   "cell_type": "code",
   "execution_count": null,
   "id": "b919d96e-beef-48cf-a753-a2076bb4652f",
   "metadata": {},
   "outputs": [],
   "source": [
    "#y[y['film_id'] == 19].index.values.astype(int)[0]\n",
    "#y[y.film_id == 19].index.item()\n",
    "#dfx['YES/NO'].isna().sum()"
   ]
  },
  {
   "cell_type": "code",
   "execution_count": 493,
   "id": "16d1f758-f72c-44b7-96e3-cfac4170dfcd",
   "metadata": {},
   "outputs": [],
   "source": [
    "# DROP DUPLICATED ROWS \n",
    "\n",
    "dfx[dfx.duplicated()] \n",
    "dfx.drop_duplicates(inplace = True)"
   ]
  },
  {
   "cell_type": "code",
   "execution_count": 494,
   "id": "d03dccbb-d975-4189-b96c-eaf8e0bdbaf5",
   "metadata": {},
   "outputs": [],
   "source": [
    "# DEVIDE DATA INTO DEPENDENT AND IDEPENDENT VARIABLES\n",
    "\n",
    "\n",
    "y = dfx[['YES/NO']]\n",
    "X = dfx.drop(['YES/NO', 'film_id', 'inventory_id'], axis = 1)\n",
    "X = pd.DataFrame(X)"
   ]
  },
  {
   "cell_type": "markdown",
   "id": "e6a87e65-7bc7-4ead-aa4e-6607ce1f509a",
   "metadata": {},
   "source": [
    "### 7. Analyze extracted features and transform them. You may need to encode some categorical variables or scale numerical variables.\n"
   ]
  },
  {
   "cell_type": "code",
   "execution_count": 498,
   "id": "52f288e7-f253-47bc-b7d1-8c40eb38041f",
   "metadata": {},
   "outputs": [
    {
     "data": {
      "text/html": [
       "<div>\n",
       "<style scoped>\n",
       "    .dataframe tbody tr th:only-of-type {\n",
       "        vertical-align: middle;\n",
       "    }\n",
       "\n",
       "    .dataframe tbody tr th {\n",
       "        vertical-align: top;\n",
       "    }\n",
       "\n",
       "    .dataframe thead th {\n",
       "        text-align: right;\n",
       "    }\n",
       "</style>\n",
       "<table border=\"1\" class=\"dataframe\">\n",
       "  <thead>\n",
       "    <tr style=\"text-align: right;\">\n",
       "      <th></th>\n",
       "      <th>film_length</th>\n",
       "      <th>release_year</th>\n",
       "    </tr>\n",
       "  </thead>\n",
       "  <tbody>\n",
       "    <tr>\n",
       "      <th>count</th>\n",
       "      <td>4254.000000</td>\n",
       "      <td>4254.0</td>\n",
       "    </tr>\n",
       "    <tr>\n",
       "      <th>mean</th>\n",
       "      <td>115.127174</td>\n",
       "      <td>2006.0</td>\n",
       "    </tr>\n",
       "    <tr>\n",
       "      <th>std</th>\n",
       "      <td>40.091860</td>\n",
       "      <td>0.0</td>\n",
       "    </tr>\n",
       "    <tr>\n",
       "      <th>min</th>\n",
       "      <td>46.000000</td>\n",
       "      <td>2006.0</td>\n",
       "    </tr>\n",
       "    <tr>\n",
       "      <th>25%</th>\n",
       "      <td>81.250000</td>\n",
       "      <td>2006.0</td>\n",
       "    </tr>\n",
       "    <tr>\n",
       "      <th>50%</th>\n",
       "      <td>114.000000</td>\n",
       "      <td>2006.0</td>\n",
       "    </tr>\n",
       "    <tr>\n",
       "      <th>75%</th>\n",
       "      <td>148.000000</td>\n",
       "      <td>2006.0</td>\n",
       "    </tr>\n",
       "    <tr>\n",
       "      <th>max</th>\n",
       "      <td>185.000000</td>\n",
       "      <td>2006.0</td>\n",
       "    </tr>\n",
       "  </tbody>\n",
       "</table>\n",
       "</div>"
      ],
      "text/plain": [
       "       film_length  release_year\n",
       "count  4254.000000        4254.0\n",
       "mean    115.127174        2006.0\n",
       "std      40.091860           0.0\n",
       "min      46.000000        2006.0\n",
       "25%      81.250000        2006.0\n",
       "50%     114.000000        2006.0\n",
       "75%     148.000000        2006.0\n",
       "max     185.000000        2006.0"
      ]
     },
     "execution_count": 498,
     "metadata": {},
     "output_type": "execute_result"
    }
   ],
   "source": [
    "X.describe()"
   ]
  },
  {
   "cell_type": "code",
   "execution_count": 499,
   "id": "118b2f7e-1800-4843-975b-b7a2e1eb9b69",
   "metadata": {},
   "outputs": [
    {
     "data": {
      "text/plain": [
       "array(['Action', 'Animation', 'Children', 'Classics', 'Comedy',\n",
       "       'Documentary', 'Drama', 'Family', 'Foreign', 'Games', 'Horror',\n",
       "       'Music', 'New', 'Sci-Fi', 'Sports', 'Travel'], dtype=object)"
      ]
     },
     "execution_count": 499,
     "metadata": {},
     "output_type": "execute_result"
    }
   ],
   "source": [
    "X['genre'].describe()\n",
    "X['genre'].unique()\n",
    "\n",
    "# -> No Null Values\n",
    "\n",
    "## -> NEXT STEP: OneHotEncoder"
   ]
  },
  {
   "cell_type": "code",
   "execution_count": 500,
   "id": "f6106d52-987d-4854-88a1-6d7f64d5983d",
   "metadata": {},
   "outputs": [
    {
     "data": {
      "text/plain": [
       "count    4254.000000\n",
       "mean      115.127174\n",
       "std        40.091860\n",
       "min        46.000000\n",
       "25%        81.250000\n",
       "50%       114.000000\n",
       "75%       148.000000\n",
       "max       185.000000\n",
       "Name: film_length, dtype: float64"
      ]
     },
     "execution_count": 500,
     "metadata": {},
     "output_type": "execute_result"
    },
    {
     "data": {
      "image/png": "[encoded data removed]",
      "text/plain": [
       "<Figure size 360x360 with 1 Axes>"
      ]
     },
     "metadata": {
      "needs_background": "light"
     },
     "output_type": "display_data"
    }
   ],
   "source": [
    "X['film_length'].unique()\n",
    "X['film_length'].describe()\n",
    "X['film_length'].value_counts()\n",
    "\n",
    "sns.displot(X['film_length'], bins = 50)\n",
    "X['film_length'].describe()\n",
    "\n",
    "\n",
    "# -> NEXT STEP: Scaling "
   ]
  },
  {
   "cell_type": "code",
   "execution_count": 501,
   "id": "2fd4491a-2e0b-4b52-8367-0667751a27b5",
   "metadata": {},
   "outputs": [
    {
     "data": {
      "text/plain": [
       "array(['PG', 'R', 'NC-17', 'G', 'PG-13'], dtype=object)"
      ]
     },
     "execution_count": 501,
     "metadata": {},
     "output_type": "execute_result"
    }
   ],
   "source": [
    "X['rating'].describe()\n",
    "X['rating'].unique()\n",
    "\n",
    "# -> no Null Values\n",
    "\n",
    "## -> NEXT STEP: OneHotEncoder"
   ]
  },
  {
   "cell_type": "code",
   "execution_count": 528,
   "id": "9f78d372-1ad6-4a75-adf8-22c103994117",
   "metadata": {},
   "outputs": [
    {
     "ename": "KeyError",
     "evalue": "'release_year'",
     "output_type": "error",
     "traceback": [
      "\u001b[0;31m---------------------------------------------------------------------------\u001b[0m",
      "\u001b[0;31mKeyError\u001b[0m                                  Traceback (most recent call last)",
      "\u001b[0;32m~/opt/anaconda3/lib/python3.9/site-packages/pandas/core/indexes/base.py\u001b[0m in \u001b[0;36mget_loc\u001b[0;34m(self, key, method, tolerance)\u001b[0m\n\u001b[1;32m   3360\u001b[0m             \u001b[0;32mtry\u001b[0m\u001b[0;34m:\u001b[0m\u001b[0;34m\u001b[0m\u001b[0;34m\u001b[0m\u001b[0m\n\u001b[0;32m-> 3361\u001b[0;31m                 \u001b[0;32mreturn\u001b[0m \u001b[0mself\u001b[0m\u001b[0;34m.\u001b[0m\u001b[0m_engine\u001b[0m\u001b[0;34m.\u001b[0m\u001b[0mget_loc\u001b[0m\u001b[0;34m(\u001b[0m\u001b[0mcasted_key\u001b[0m\u001b[0;34m)\u001b[0m\u001b[0;34m\u001b[0m\u001b[0;34m\u001b[0m\u001b[0m\n\u001b[0m\u001b[1;32m   3362\u001b[0m             \u001b[0;32mexcept\u001b[0m \u001b[0mKeyError\u001b[0m \u001b[0;32mas\u001b[0m \u001b[0merr\u001b[0m\u001b[0;34m:\u001b[0m\u001b[0;34m\u001b[0m\u001b[0;34m\u001b[0m\u001b[0m\n",
      "\u001b[0;32m~/opt/anaconda3/lib/python3.9/site-packages/pandas/_libs/index.pyx\u001b[0m in \u001b[0;36mpandas._libs.index.IndexEngine.get_loc\u001b[0;34m()\u001b[0m\n",
      "\u001b[0;32m~/opt/anaconda3/lib/python3.9/site-packages/pandas/_libs/index.pyx\u001b[0m in \u001b[0;36mpandas._libs.index.IndexEngine.get_loc\u001b[0;34m()\u001b[0m\n",
      "\u001b[0;32mpandas/_libs/hashtable_class_helper.pxi\u001b[0m in \u001b[0;36mpandas._libs.hashtable.PyObjectHashTable.get_item\u001b[0;34m()\u001b[0m\n",
      "\u001b[0;32mpandas/_libs/hashtable_class_helper.pxi\u001b[0m in \u001b[0;36mpandas._libs.hashtable.PyObjectHashTable.get_item\u001b[0;34m()\u001b[0m\n",
      "\u001b[0;31mKeyError\u001b[0m: 'release_year'",
      "\nThe above exception was the direct cause of the following exception:\n",
      "\u001b[0;31mKeyError\u001b[0m                                  Traceback (most recent call last)",
      "\u001b[0;32m/var/folders/dj/n16zrnc50j79vq_pt7btwyg40000gn/T/ipykernel_37410/2586603721.py\u001b[0m in \u001b[0;36m<module>\u001b[0;34m\u001b[0m\n\u001b[0;32m----> 1\u001b[0;31m \u001b[0mX\u001b[0m\u001b[0;34m[\u001b[0m\u001b[0;34m'release_year'\u001b[0m\u001b[0;34m]\u001b[0m\u001b[0;34m.\u001b[0m\u001b[0munique\u001b[0m\u001b[0;34m(\u001b[0m\u001b[0;34m)\u001b[0m\u001b[0;34m\u001b[0m\u001b[0;34m\u001b[0m\u001b[0m\n\u001b[0m\u001b[1;32m      2\u001b[0m \u001b[0;34m\u001b[0m\u001b[0m\n\u001b[1;32m      3\u001b[0m \u001b[0;31m# -> since the release year consists of only one unique value I will drop it from the independend variables.\u001b[0m\u001b[0;34m\u001b[0m\u001b[0;34m\u001b[0m\u001b[0m\n\u001b[1;32m      4\u001b[0m \u001b[0;34m\u001b[0m\u001b[0m\n",
      "\u001b[0;32m~/opt/anaconda3/lib/python3.9/site-packages/pandas/core/frame.py\u001b[0m in \u001b[0;36m__getitem__\u001b[0;34m(self, key)\u001b[0m\n\u001b[1;32m   3456\u001b[0m             \u001b[0;32mif\u001b[0m \u001b[0mself\u001b[0m\u001b[0;34m.\u001b[0m\u001b[0mcolumns\u001b[0m\u001b[0;34m.\u001b[0m\u001b[0mnlevels\u001b[0m \u001b[0;34m>\u001b[0m \u001b[0;36m1\u001b[0m\u001b[0;34m:\u001b[0m\u001b[0;34m\u001b[0m\u001b[0;34m\u001b[0m\u001b[0m\n\u001b[1;32m   3457\u001b[0m                 \u001b[0;32mreturn\u001b[0m \u001b[0mself\u001b[0m\u001b[0;34m.\u001b[0m\u001b[0m_getitem_multilevel\u001b[0m\u001b[0;34m(\u001b[0m\u001b[0mkey\u001b[0m\u001b[0;34m)\u001b[0m\u001b[0;34m\u001b[0m\u001b[0;34m\u001b[0m\u001b[0m\n\u001b[0;32m-> 3458\u001b[0;31m             \u001b[0mindexer\u001b[0m \u001b[0;34m=\u001b[0m \u001b[0mself\u001b[0m\u001b[0;34m.\u001b[0m\u001b[0mcolumns\u001b[0m\u001b[0;34m.\u001b[0m\u001b[0mget_loc\u001b[0m\u001b[0;34m(\u001b[0m\u001b[0mkey\u001b[0m\u001b[0;34m)\u001b[0m\u001b[0;34m\u001b[0m\u001b[0;34m\u001b[0m\u001b[0m\n\u001b[0m\u001b[1;32m   3459\u001b[0m             \u001b[0;32mif\u001b[0m \u001b[0mis_integer\u001b[0m\u001b[0;34m(\u001b[0m\u001b[0mindexer\u001b[0m\u001b[0;34m)\u001b[0m\u001b[0;34m:\u001b[0m\u001b[0;34m\u001b[0m\u001b[0;34m\u001b[0m\u001b[0m\n\u001b[1;32m   3460\u001b[0m                 \u001b[0mindexer\u001b[0m \u001b[0;34m=\u001b[0m \u001b[0;34m[\u001b[0m\u001b[0mindexer\u001b[0m\u001b[0;34m]\u001b[0m\u001b[0;34m\u001b[0m\u001b[0;34m\u001b[0m\u001b[0m\n",
      "\u001b[0;32m~/opt/anaconda3/lib/python3.9/site-packages/pandas/core/indexes/base.py\u001b[0m in \u001b[0;36mget_loc\u001b[0;34m(self, key, method, tolerance)\u001b[0m\n\u001b[1;32m   3361\u001b[0m                 \u001b[0;32mreturn\u001b[0m \u001b[0mself\u001b[0m\u001b[0;34m.\u001b[0m\u001b[0m_engine\u001b[0m\u001b[0;34m.\u001b[0m\u001b[0mget_loc\u001b[0m\u001b[0;34m(\u001b[0m\u001b[0mcasted_key\u001b[0m\u001b[0;34m)\u001b[0m\u001b[0;34m\u001b[0m\u001b[0;34m\u001b[0m\u001b[0m\n\u001b[1;32m   3362\u001b[0m             \u001b[0;32mexcept\u001b[0m \u001b[0mKeyError\u001b[0m \u001b[0;32mas\u001b[0m \u001b[0merr\u001b[0m\u001b[0;34m:\u001b[0m\u001b[0;34m\u001b[0m\u001b[0;34m\u001b[0m\u001b[0m\n\u001b[0;32m-> 3363\u001b[0;31m                 \u001b[0;32mraise\u001b[0m \u001b[0mKeyError\u001b[0m\u001b[0;34m(\u001b[0m\u001b[0mkey\u001b[0m\u001b[0;34m)\u001b[0m \u001b[0;32mfrom\u001b[0m \u001b[0merr\u001b[0m\u001b[0;34m\u001b[0m\u001b[0;34m\u001b[0m\u001b[0m\n\u001b[0m\u001b[1;32m   3364\u001b[0m \u001b[0;34m\u001b[0m\u001b[0m\n\u001b[1;32m   3365\u001b[0m         \u001b[0;32mif\u001b[0m \u001b[0mis_scalar\u001b[0m\u001b[0;34m(\u001b[0m\u001b[0mkey\u001b[0m\u001b[0;34m)\u001b[0m \u001b[0;32mand\u001b[0m \u001b[0misna\u001b[0m\u001b[0;34m(\u001b[0m\u001b[0mkey\u001b[0m\u001b[0;34m)\u001b[0m \u001b[0;32mand\u001b[0m \u001b[0;32mnot\u001b[0m \u001b[0mself\u001b[0m\u001b[0;34m.\u001b[0m\u001b[0mhasnans\u001b[0m\u001b[0;34m:\u001b[0m\u001b[0;34m\u001b[0m\u001b[0;34m\u001b[0m\u001b[0m\n",
      "\u001b[0;31mKeyError\u001b[0m: 'release_year'"
     ]
    }
   ],
   "source": [
    "X['release_year'].unique()\n",
    "\n",
    "# -> since the release year consists of only one unique value I will drop it from the independend variables. \n",
    "\n"
   ]
  },
  {
   "cell_type": "code",
   "execution_count": 529,
   "id": "b7637417-01e5-4f36-a231-c3cf65ad1f33",
   "metadata": {},
   "outputs": [
    {
     "ename": "KeyError",
     "evalue": "\"['release_year'] not found in axis\"",
     "output_type": "error",
     "traceback": [
      "\u001b[0;31m---------------------------------------------------------------------------\u001b[0m",
      "\u001b[0;31mKeyError\u001b[0m                                  Traceback (most recent call last)",
      "\u001b[0;32m/var/folders/dj/n16zrnc50j79vq_pt7btwyg40000gn/T/ipykernel_37410/911887181.py\u001b[0m in \u001b[0;36m<module>\u001b[0;34m\u001b[0m\n\u001b[0;32m----> 1\u001b[0;31m \u001b[0mX\u001b[0m\u001b[0;34m.\u001b[0m\u001b[0mdrop\u001b[0m\u001b[0;34m(\u001b[0m\u001b[0;34m'release_year'\u001b[0m\u001b[0;34m,\u001b[0m \u001b[0maxis\u001b[0m \u001b[0;34m=\u001b[0m \u001b[0;36m1\u001b[0m\u001b[0;34m,\u001b[0m \u001b[0minplace\u001b[0m \u001b[0;34m=\u001b[0m \u001b[0;32mTrue\u001b[0m\u001b[0;34m)\u001b[0m\u001b[0;34m\u001b[0m\u001b[0;34m\u001b[0m\u001b[0m\n\u001b[0m",
      "\u001b[0;32m~/opt/anaconda3/lib/python3.9/site-packages/pandas/util/_decorators.py\u001b[0m in \u001b[0;36mwrapper\u001b[0;34m(*args, **kwargs)\u001b[0m\n\u001b[1;32m    309\u001b[0m                     \u001b[0mstacklevel\u001b[0m\u001b[0;34m=\u001b[0m\u001b[0mstacklevel\u001b[0m\u001b[0;34m,\u001b[0m\u001b[0;34m\u001b[0m\u001b[0;34m\u001b[0m\u001b[0m\n\u001b[1;32m    310\u001b[0m                 )\n\u001b[0;32m--> 311\u001b[0;31m             \u001b[0;32mreturn\u001b[0m \u001b[0mfunc\u001b[0m\u001b[0;34m(\u001b[0m\u001b[0;34m*\u001b[0m\u001b[0margs\u001b[0m\u001b[0;34m,\u001b[0m \u001b[0;34m**\u001b[0m\u001b[0mkwargs\u001b[0m\u001b[0;34m)\u001b[0m\u001b[0;34m\u001b[0m\u001b[0;34m\u001b[0m\u001b[0m\n\u001b[0m\u001b[1;32m    312\u001b[0m \u001b[0;34m\u001b[0m\u001b[0m\n\u001b[1;32m    313\u001b[0m         \u001b[0;32mreturn\u001b[0m \u001b[0mwrapper\u001b[0m\u001b[0;34m\u001b[0m\u001b[0;34m\u001b[0m\u001b[0m\n",
      "\u001b[0;32m~/opt/anaconda3/lib/python3.9/site-packages/pandas/core/frame.py\u001b[0m in \u001b[0;36mdrop\u001b[0;34m(self, labels, axis, index, columns, level, inplace, errors)\u001b[0m\n\u001b[1;32m   4904\u001b[0m                 \u001b[0mweight\u001b[0m  \u001b[0;36m1.0\u001b[0m     \u001b[0;36m0.8\u001b[0m\u001b[0;34m\u001b[0m\u001b[0;34m\u001b[0m\u001b[0m\n\u001b[1;32m   4905\u001b[0m         \"\"\"\n\u001b[0;32m-> 4906\u001b[0;31m         return super().drop(\n\u001b[0m\u001b[1;32m   4907\u001b[0m             \u001b[0mlabels\u001b[0m\u001b[0;34m=\u001b[0m\u001b[0mlabels\u001b[0m\u001b[0;34m,\u001b[0m\u001b[0;34m\u001b[0m\u001b[0;34m\u001b[0m\u001b[0m\n\u001b[1;32m   4908\u001b[0m             \u001b[0maxis\u001b[0m\u001b[0;34m=\u001b[0m\u001b[0maxis\u001b[0m\u001b[0;34m,\u001b[0m\u001b[0;34m\u001b[0m\u001b[0;34m\u001b[0m\u001b[0m\n",
      "\u001b[0;32m~/opt/anaconda3/lib/python3.9/site-packages/pandas/core/generic.py\u001b[0m in \u001b[0;36mdrop\u001b[0;34m(self, labels, axis, index, columns, level, inplace, errors)\u001b[0m\n\u001b[1;32m   4148\u001b[0m         \u001b[0;32mfor\u001b[0m \u001b[0maxis\u001b[0m\u001b[0;34m,\u001b[0m \u001b[0mlabels\u001b[0m \u001b[0;32min\u001b[0m \u001b[0maxes\u001b[0m\u001b[0;34m.\u001b[0m\u001b[0mitems\u001b[0m\u001b[0;34m(\u001b[0m\u001b[0;34m)\u001b[0m\u001b[0;34m:\u001b[0m\u001b[0;34m\u001b[0m\u001b[0;34m\u001b[0m\u001b[0m\n\u001b[1;32m   4149\u001b[0m             \u001b[0;32mif\u001b[0m \u001b[0mlabels\u001b[0m \u001b[0;32mis\u001b[0m \u001b[0;32mnot\u001b[0m \u001b[0;32mNone\u001b[0m\u001b[0;34m:\u001b[0m\u001b[0;34m\u001b[0m\u001b[0;34m\u001b[0m\u001b[0m\n\u001b[0;32m-> 4150\u001b[0;31m                 \u001b[0mobj\u001b[0m \u001b[0;34m=\u001b[0m \u001b[0mobj\u001b[0m\u001b[0;34m.\u001b[0m\u001b[0m_drop_axis\u001b[0m\u001b[0;34m(\u001b[0m\u001b[0mlabels\u001b[0m\u001b[0;34m,\u001b[0m \u001b[0maxis\u001b[0m\u001b[0;34m,\u001b[0m \u001b[0mlevel\u001b[0m\u001b[0;34m=\u001b[0m\u001b[0mlevel\u001b[0m\u001b[0;34m,\u001b[0m \u001b[0merrors\u001b[0m\u001b[0;34m=\u001b[0m\u001b[0merrors\u001b[0m\u001b[0;34m)\u001b[0m\u001b[0;34m\u001b[0m\u001b[0;34m\u001b[0m\u001b[0m\n\u001b[0m\u001b[1;32m   4151\u001b[0m \u001b[0;34m\u001b[0m\u001b[0m\n\u001b[1;32m   4152\u001b[0m         \u001b[0;32mif\u001b[0m \u001b[0minplace\u001b[0m\u001b[0;34m:\u001b[0m\u001b[0;34m\u001b[0m\u001b[0;34m\u001b[0m\u001b[0m\n",
      "\u001b[0;32m~/opt/anaconda3/lib/python3.9/site-packages/pandas/core/generic.py\u001b[0m in \u001b[0;36m_drop_axis\u001b[0;34m(self, labels, axis, level, errors)\u001b[0m\n\u001b[1;32m   4183\u001b[0m                 \u001b[0mnew_axis\u001b[0m \u001b[0;34m=\u001b[0m \u001b[0maxis\u001b[0m\u001b[0;34m.\u001b[0m\u001b[0mdrop\u001b[0m\u001b[0;34m(\u001b[0m\u001b[0mlabels\u001b[0m\u001b[0;34m,\u001b[0m \u001b[0mlevel\u001b[0m\u001b[0;34m=\u001b[0m\u001b[0mlevel\u001b[0m\u001b[0;34m,\u001b[0m \u001b[0merrors\u001b[0m\u001b[0;34m=\u001b[0m\u001b[0merrors\u001b[0m\u001b[0;34m)\u001b[0m\u001b[0;34m\u001b[0m\u001b[0;34m\u001b[0m\u001b[0m\n\u001b[1;32m   4184\u001b[0m             \u001b[0;32melse\u001b[0m\u001b[0;34m:\u001b[0m\u001b[0;34m\u001b[0m\u001b[0;34m\u001b[0m\u001b[0m\n\u001b[0;32m-> 4185\u001b[0;31m                 \u001b[0mnew_axis\u001b[0m \u001b[0;34m=\u001b[0m \u001b[0maxis\u001b[0m\u001b[0;34m.\u001b[0m\u001b[0mdrop\u001b[0m\u001b[0;34m(\u001b[0m\u001b[0mlabels\u001b[0m\u001b[0;34m,\u001b[0m \u001b[0merrors\u001b[0m\u001b[0;34m=\u001b[0m\u001b[0merrors\u001b[0m\u001b[0;34m)\u001b[0m\u001b[0;34m\u001b[0m\u001b[0;34m\u001b[0m\u001b[0m\n\u001b[0m\u001b[1;32m   4186\u001b[0m             \u001b[0mresult\u001b[0m \u001b[0;34m=\u001b[0m \u001b[0mself\u001b[0m\u001b[0;34m.\u001b[0m\u001b[0mreindex\u001b[0m\u001b[0;34m(\u001b[0m\u001b[0;34m**\u001b[0m\u001b[0;34m{\u001b[0m\u001b[0maxis_name\u001b[0m\u001b[0;34m:\u001b[0m \u001b[0mnew_axis\u001b[0m\u001b[0;34m}\u001b[0m\u001b[0;34m)\u001b[0m\u001b[0;34m\u001b[0m\u001b[0;34m\u001b[0m\u001b[0m\n\u001b[1;32m   4187\u001b[0m \u001b[0;34m\u001b[0m\u001b[0m\n",
      "\u001b[0;32m~/opt/anaconda3/lib/python3.9/site-packages/pandas/core/indexes/base.py\u001b[0m in \u001b[0;36mdrop\u001b[0;34m(self, labels, errors)\u001b[0m\n\u001b[1;32m   6015\u001b[0m         \u001b[0;32mif\u001b[0m \u001b[0mmask\u001b[0m\u001b[0;34m.\u001b[0m\u001b[0many\u001b[0m\u001b[0;34m(\u001b[0m\u001b[0;34m)\u001b[0m\u001b[0;34m:\u001b[0m\u001b[0;34m\u001b[0m\u001b[0;34m\u001b[0m\u001b[0m\n\u001b[1;32m   6016\u001b[0m             \u001b[0;32mif\u001b[0m \u001b[0merrors\u001b[0m \u001b[0;34m!=\u001b[0m \u001b[0;34m\"ignore\"\u001b[0m\u001b[0;34m:\u001b[0m\u001b[0;34m\u001b[0m\u001b[0;34m\u001b[0m\u001b[0m\n\u001b[0;32m-> 6017\u001b[0;31m                 \u001b[0;32mraise\u001b[0m \u001b[0mKeyError\u001b[0m\u001b[0;34m(\u001b[0m\u001b[0;34mf\"{labels[mask]} not found in axis\"\u001b[0m\u001b[0;34m)\u001b[0m\u001b[0;34m\u001b[0m\u001b[0;34m\u001b[0m\u001b[0m\n\u001b[0m\u001b[1;32m   6018\u001b[0m             \u001b[0mindexer\u001b[0m \u001b[0;34m=\u001b[0m \u001b[0mindexer\u001b[0m\u001b[0;34m[\u001b[0m\u001b[0;34m~\u001b[0m\u001b[0mmask\u001b[0m\u001b[0;34m]\u001b[0m\u001b[0;34m\u001b[0m\u001b[0;34m\u001b[0m\u001b[0m\n\u001b[1;32m   6019\u001b[0m         \u001b[0;32mreturn\u001b[0m \u001b[0mself\u001b[0m\u001b[0;34m.\u001b[0m\u001b[0mdelete\u001b[0m\u001b[0;34m(\u001b[0m\u001b[0mindexer\u001b[0m\u001b[0;34m)\u001b[0m\u001b[0;34m\u001b[0m\u001b[0;34m\u001b[0m\u001b[0m\n",
      "\u001b[0;31mKeyError\u001b[0m: \"['release_year'] not found in axis\""
     ]
    }
   ],
   "source": [
    "X.drop('release_year', axis = 1, inplace = True)"
   ]
  },
  {
   "cell_type": "markdown",
   "id": "b7268ab2-b43e-44c5-8b74-eb00c75fa7b4",
   "metadata": {},
   "source": [
    "### 8. Create a logistic regression model to predict this new column from the cleaned data."
   ]
  },
  {
   "cell_type": "code",
   "execution_count": 503,
   "id": "e5425c48-1fbf-4597-9d6f-064c5e9e01ed",
   "metadata": {},
   "outputs": [],
   "source": [
    "from sklearn.preprocessing import OneHotEncoder, MinMaxScaler\n",
    "from sklearn.linear_model import LogisticRegression\n",
    "from sklearn.model_selection import train_test_split\n",
    "\n",
    "import seaborn as sns\n",
    "%matplotlib inline"
   ]
  },
  {
   "cell_type": "code",
   "execution_count": 505,
   "id": "93e9bc6b-c0e9-4032-8796-5f0e9a1fc347",
   "metadata": {},
   "outputs": [],
   "source": [
    "X_train, X_test, y_train, y_test = train_test_split(X, y, test_size=0.30, random_state=42)"
   ]
  },
  {
   "cell_type": "code",
   "execution_count": 506,
   "id": "a1a438e5-1d56-40e7-bd26-3fec693d7886",
   "metadata": {},
   "outputs": [],
   "source": [
    "X_train \n",
    "y_train\n",
    "\n",
    "X_train_cat = X_train.select_dtypes(['object'])\n",
    "X_train_num = X_train[['film_length']]\n",
    "\n",
    "X_test_cat = X_test.select_dtypes(['object'])\n",
    "X_test_num = X_test[['film_length']]\n",
    "\n",
    "\n"
   ]
  },
  {
   "cell_type": "code",
   "execution_count": 507,
   "id": "53cf4d12-ad16-4dba-b8fd-4053998fdcce",
   "metadata": {},
   "outputs": [
    {
     "data": {
      "image/png": "[encoded data removed]",
      "text/plain": [
       "<Figure size 452x360 with 1 Axes>"
      ]
     },
     "metadata": {
      "needs_background": "light"
     },
     "output_type": "display_data"
    }
   ],
   "source": [
    "# SCALING X_train_num & X_test_num:\n",
    "\n",
    "scaler = MinMaxScaler()\n",
    "X_train_num_transf = scaler.fit_transform(X_train_num)\n",
    "X_train_num_transf = pd.DataFrame(X_train_num_transf, columns = X_train_num.columns)\n",
    "sns.displot(X_train_num_transf , bins = 50)\n",
    "\n",
    "## ..... X_test_num\n",
    "\n",
    "scaler = MinMaxScaler()\n",
    "X_test_num_transf = scaler.fit_transform(X_test_num)\n",
    "X_test_num_transf = pd.DataFrame(X_test_num_transf, columns = X_test_num.columns)\n"
   ]
  },
  {
   "cell_type": "code",
   "execution_count": 508,
   "id": "8a321ff0-c36b-498d-84f5-1ebd5eeeb4c4",
   "metadata": {},
   "outputs": [],
   "source": [
    "# ONE-HOT-ENCODER X_train_cat & X_test_cat\n",
    "\n",
    "\n",
    "enc = OneHotEncoder(drop='first')    \n",
    "X_train_cat_ohe = enc.fit_transform(X_train_cat).toarray()\n",
    "col = enc.get_feature_names_out()\n",
    "X_train_cat_ohe = pd.DataFrame(X_train_cat_ohe, columns=col)\n",
    "\n",
    "\n",
    "\n",
    "# .... X_test_cat\n",
    "\n",
    "enc = OneHotEncoder(drop='first')\n",
    "X_test_cat_ohe = enc.fit_transform(X_test_cat).toarray()\n",
    "col = enc.get_feature_names_out()\n",
    "X_test_cat_ohe = pd.DataFrame(X_test_cat_ohe, columns = col)\n",
    "\n",
    "\n",
    "#X_test_cat_ohe.head()\n",
    "#X_train_cat_ohe.head(2) "
   ]
  },
  {
   "cell_type": "code",
   "execution_count": 509,
   "id": "c82b38f8-68bd-4ad9-8389-804d7cbf4cb8",
   "metadata": {},
   "outputs": [
    {
     "data": {
      "text/plain": [
       "[('genre_Animation', 'genre_Animation'),\n",
       " ('genre_Children', 'genre_Children'),\n",
       " ('genre_Classics', 'genre_Classics'),\n",
       " ('genre_Comedy', 'genre_Comedy'),\n",
       " ('genre_Documentary', 'genre_Documentary'),\n",
       " ('genre_Drama', 'genre_Drama'),\n",
       " ('genre_Family', 'genre_Family'),\n",
       " ('genre_Foreign', 'genre_Foreign'),\n",
       " ('genre_Games', 'genre_Games'),\n",
       " ('genre_Horror', 'genre_Horror'),\n",
       " ('genre_Music', 'genre_Music'),\n",
       " ('genre_New', 'genre_New'),\n",
       " ('genre_Sci-Fi', 'genre_Sci-Fi'),\n",
       " ('genre_Sports', 'genre_Sports'),\n",
       " ('genre_Travel', 'genre_Travel'),\n",
       " ('rating_NC-17', 'rating_NC-17'),\n",
       " ('rating_PG', 'rating_PG'),\n",
       " ('rating_PG-13', 'rating_PG-13'),\n",
       " ('rating_R', 'rating_R')]"
      ]
     },
     "metadata": {},
     "output_type": "display_data"
    }
   ],
   "source": [
    "# ALTERNATIVE OPTION = DUMMY VARIABLES \n",
    "\n",
    "X_test_cat_dummy = pd.get_dummies(X_test_cat, drop_first = True)\n",
    "\n",
    "\n",
    "# Checking if columns match the X_train_cat_ohe\n",
    "\n",
    "display(list((zip(list(X_test_cat_dummy.columns), list(X_train_cat_ohe.columns)))))"
   ]
  },
  {
   "cell_type": "code",
   "execution_count": 510,
   "id": "240dcf43-a4b4-40f2-9622-44df16a38896",
   "metadata": {},
   "outputs": [
    {
     "data": {
      "text/html": [
       "<div>\n",
       "<style scoped>\n",
       "    .dataframe tbody tr th:only-of-type {\n",
       "        vertical-align: middle;\n",
       "    }\n",
       "\n",
       "    .dataframe tbody tr th {\n",
       "        vertical-align: top;\n",
       "    }\n",
       "\n",
       "    .dataframe thead th {\n",
       "        text-align: right;\n",
       "    }\n",
       "</style>\n",
       "<table border=\"1\" class=\"dataframe\">\n",
       "  <thead>\n",
       "    <tr style=\"text-align: right;\">\n",
       "      <th></th>\n",
       "      <th>genre_Animation</th>\n",
       "      <th>genre_Children</th>\n",
       "      <th>genre_Classics</th>\n",
       "      <th>genre_Comedy</th>\n",
       "      <th>genre_Documentary</th>\n",
       "      <th>genre_Drama</th>\n",
       "      <th>genre_Family</th>\n",
       "      <th>genre_Foreign</th>\n",
       "      <th>genre_Games</th>\n",
       "      <th>genre_Horror</th>\n",
       "      <th>genre_Music</th>\n",
       "      <th>genre_New</th>\n",
       "      <th>genre_Sci-Fi</th>\n",
       "      <th>genre_Sports</th>\n",
       "      <th>genre_Travel</th>\n",
       "      <th>rating_NC-17</th>\n",
       "      <th>rating_PG</th>\n",
       "      <th>rating_PG-13</th>\n",
       "      <th>rating_R</th>\n",
       "      <th>film_length</th>\n",
       "    </tr>\n",
       "  </thead>\n",
       "  <tbody>\n",
       "    <tr>\n",
       "      <th>0</th>\n",
       "      <td>0.0</td>\n",
       "      <td>0.0</td>\n",
       "      <td>0.0</td>\n",
       "      <td>0.0</td>\n",
       "      <td>0.0</td>\n",
       "      <td>0.0</td>\n",
       "      <td>0.0</td>\n",
       "      <td>0.0</td>\n",
       "      <td>0.0</td>\n",
       "      <td>0.0</td>\n",
       "      <td>0.0</td>\n",
       "      <td>0.0</td>\n",
       "      <td>0.0</td>\n",
       "      <td>0.0</td>\n",
       "      <td>0.0</td>\n",
       "      <td>0.0</td>\n",
       "      <td>0.0</td>\n",
       "      <td>0.0</td>\n",
       "      <td>0.0</td>\n",
       "      <td>0.050360</td>\n",
       "    </tr>\n",
       "    <tr>\n",
       "      <th>1</th>\n",
       "      <td>0.0</td>\n",
       "      <td>0.0</td>\n",
       "      <td>1.0</td>\n",
       "      <td>0.0</td>\n",
       "      <td>0.0</td>\n",
       "      <td>0.0</td>\n",
       "      <td>0.0</td>\n",
       "      <td>0.0</td>\n",
       "      <td>0.0</td>\n",
       "      <td>0.0</td>\n",
       "      <td>0.0</td>\n",
       "      <td>0.0</td>\n",
       "      <td>0.0</td>\n",
       "      <td>0.0</td>\n",
       "      <td>0.0</td>\n",
       "      <td>0.0</td>\n",
       "      <td>1.0</td>\n",
       "      <td>0.0</td>\n",
       "      <td>0.0</td>\n",
       "      <td>0.194245</td>\n",
       "    </tr>\n",
       "  </tbody>\n",
       "</table>\n",
       "</div>"
      ],
      "text/plain": [
       "   genre_Animation  genre_Children  genre_Classics  genre_Comedy  \\\n",
       "0              0.0             0.0             0.0           0.0   \n",
       "1              0.0             0.0             1.0           0.0   \n",
       "\n",
       "   genre_Documentary  genre_Drama  genre_Family  genre_Foreign  genre_Games  \\\n",
       "0                0.0          0.0           0.0            0.0          0.0   \n",
       "1                0.0          0.0           0.0            0.0          0.0   \n",
       "\n",
       "   genre_Horror  genre_Music  genre_New  genre_Sci-Fi  genre_Sports  \\\n",
       "0           0.0          0.0        0.0           0.0           0.0   \n",
       "1           0.0          0.0        0.0           0.0           0.0   \n",
       "\n",
       "   genre_Travel  rating_NC-17  rating_PG  rating_PG-13  rating_R  film_length  \n",
       "0           0.0           0.0        0.0           0.0       0.0     0.050360  \n",
       "1           0.0           0.0        1.0           0.0       0.0     0.194245  "
      ]
     },
     "execution_count": 510,
     "metadata": {},
     "output_type": "execute_result"
    }
   ],
   "source": [
    "# Concatenating the transformed X_train and the transformed X_test\n",
    "\n",
    "X_train_transf = pd.concat([X_train_cat_ohe, X_train_num_transf], axis = 1)\n",
    "X_train_transf.head(2)\n",
    "\n",
    "# .... concatenate X_test dfs \n",
    "\n",
    "\n",
    "X_test_transf = pd.concat([X_test_cat_ohe, X_test_num_transf], axis = 1)\n",
    "X_test_transf.head(2)"
   ]
  },
  {
   "cell_type": "code",
   "execution_count": 511,
   "id": "626b727b-4779-44f9-84bb-c59e697fdd19",
   "metadata": {},
   "outputs": [],
   "source": [
    "#LOGISTIC REGRESSION MODEL FIT TRANSFORM\n",
    "\n",
    "\n",
    "clf = LogisticRegression(random_state = 42, ).fit(X_train_transf, y_train.values.ravel()) # ERROR WARNING tellst me: DataConversionWarning: A column-vector y was passed when a 1d array w\n",
    "prediction = clf.predict(X_test_transf)\n",
    "y_train_pred = clf.predict(X_train_transf)"
   ]
  },
  {
   "cell_type": "markdown",
   "id": "f7c5d03b-102c-4102-afcd-84c2cda9a798",
   "metadata": {},
   "source": [
    "\n",
    "\n",
    "\n",
    " ### 9. Evaluate the results."
   ]
  },
  {
   "cell_type": "code",
   "execution_count": 512,
   "id": "425bf775-c191-403d-bc9e-3f1c09f06abc",
   "metadata": {},
   "outputs": [
    {
     "data": {
      "text/plain": [
       "<sklearn.metrics._plot.confusion_matrix.ConfusionMatrixDisplay at 0x7fc8b6002c10>"
      ]
     },
     "execution_count": 512,
     "metadata": {},
     "output_type": "execute_result"
    },
    {
     "data": {
      "image/png": "[encoded data removed]",
      "text/plain": [
       "<Figure size 432x288 with 2 Axes>"
      ]
     },
     "metadata": {
      "needs_background": "light"
     },
     "output_type": "display_data"
    }
   ],
   "source": [
    "from sklearn.metrics import confusion_matrix, accuracy_score, precision_score, recall_score, f1_score, classification_report, cohen_kappa_score, ConfusionMatrixDisplay\n",
    "\n",
    "cm = confusion_matrix(y_test, prediction)\n",
    "cm\n",
    "\n",
    "disp = ConfusionMatrixDisplay(cm,display_labels=clf.classes_);\n",
    "disp.plot()\n"
   ]
  },
  {
   "cell_type": "code",
   "execution_count": 513,
   "id": "7fab3f47-85f0-4dff-a4bf-1f2fcdcc6fe9",
   "metadata": {},
   "outputs": [
    {
     "name": "stdout",
     "output_type": "stream",
     "text": [
      "Accuracy for train: 0.952\n",
      "Accuracy for test: 0.955 \n",
      "\n",
      "Precision for train YES: 0.952\n",
      "Precision for test YES: 0.955 \n",
      "\n",
      "Recall for train YES: 1.000\n",
      "Recall for test YES: 1.000 \n",
      "\n",
      "F1 for train YES: 0.975\n",
      "F1 for test YES: 0.977 \n",
      "\n"
     ]
    }
   ],
   "source": [
    "# MODEL METRICS \n",
    "\n",
    "print('Accuracy for train: {:.3f}'.format(accuracy_score(y_train, y_train_pred)))\n",
    "print('Accuracy for test: {:.3f}'.format(accuracy_score(y_test, prediction)),'\\n')\n",
    "\n",
    "print('Precision for train YES: {:.3f}'.format(precision_score(y_train, y_train_pred, pos_label=\"YES\")))\n",
    "print('Precision for test YES: {:.3f}'.format(precision_score(y_test, prediction, pos_label=\"YES\")),'\\n')\n",
    "\n",
    "print('Recall for train YES: {:.3f}'.format(recall_score(y_train, y_train_pred, pos_label=\"YES\")))\n",
    "print('Recall for test YES: {:.3f}'.format(recall_score(y_test, prediction, pos_label=\"YES\")),'\\n')\n",
    "\n",
    "print('F1 for train YES: {:.3f}'.format(f1_score(y_train, y_train_pred, pos_label=\"YES\")))\n",
    "print('F1 for test YES: {:.3f}'.format(f1_score(y_test, prediction, pos_label=\"YES\")),'\\n')\n"
   ]
  },
  {
   "cell_type": "code",
   "execution_count": 516,
   "id": "268c5b9a-f053-4b58-8f6b-8d81bd2d5d4f",
   "metadata": {},
   "outputs": [
    {
     "name": "stdout",
     "output_type": "stream",
     "text": [
      "              precision    recall  f1-score   support\n",
      "\n",
      "         YES       0.00      0.00      0.00        57\n",
      "          NO       0.96      1.00      0.98      1220\n",
      "\n",
      "    accuracy                           0.96      1277\n",
      "   macro avg       0.48      0.50      0.49      1277\n",
      "weighted avg       0.91      0.96      0.93      1277\n",
      "\n"
     ]
    },
    {
     "name": "stderr",
     "output_type": "stream",
     "text": [
      "/Users/steib/opt/anaconda3/lib/python3.9/site-packages/sklearn/metrics/_classification.py:1327: UndefinedMetricWarning: Precision and F-score are ill-defined and being set to 0.0 in labels with no predicted samples. Use `zero_division` parameter to control this behavior.\n",
      "  _warn_prf(average, modifier, msg_start, len(result))\n",
      "/Users/steib/opt/anaconda3/lib/python3.9/site-packages/sklearn/metrics/_classification.py:1327: UndefinedMetricWarning: Precision and F-score are ill-defined and being set to 0.0 in labels with no predicted samples. Use `zero_division` parameter to control this behavior.\n",
      "  _warn_prf(average, modifier, msg_start, len(result))\n",
      "/Users/steib/opt/anaconda3/lib/python3.9/site-packages/sklearn/metrics/_classification.py:1327: UndefinedMetricWarning: Precision and F-score are ill-defined and being set to 0.0 in labels with no predicted samples. Use `zero_division` parameter to control this behavior.\n",
      "  _warn_prf(average, modifier, msg_start, len(result))\n"
     ]
    }
   ],
   "source": [
    "# OR Simply: CLASSIFICATION REPORT for y_test\n",
    "\n",
    "print(classification_report(y_test, prediction, target_names=['YES', 'NO']))\n"
   ]
  },
  {
   "cell_type": "code",
   "execution_count": 521,
   "id": "9a88b21b-eec3-4184-94bc-ccffd15c6fc3",
   "metadata": {},
   "outputs": [
    {
     "data": {
      "text/plain": [
       "0.0"
      ]
     },
     "execution_count": 521,
     "metadata": {},
     "output_type": "execute_result"
    }
   ],
   "source": [
    "# COHEN KAPPA SCORE\n",
    "\n",
    "cohen_kappa_score(y_train, y_train_pred)\n"
   ]
  },
  {
   "cell_type": "code",
   "execution_count": 518,
   "id": "d1bc919b-88e0-4a07-9620-5c41df721511",
   "metadata": {},
   "outputs": [
    {
     "data": {
      "text/plain": [
       "YES/NO\n",
       "YES       2833\n",
       "NO         144\n",
       "dtype: int64"
      ]
     },
     "execution_count": 518,
     "metadata": {},
     "output_type": "execute_result"
    }
   ],
   "source": [
    "y_train.value_counts() "
   ]
  }
 ],
 "metadata": {
  "kernelspec": {
   "display_name": "Python 3 (ipykernel)",
   "language": "python",
   "name": "python3"
  },
  "language_info": {
   "codemirror_mode": {
    "name": "ipython",
    "version": 3
   },
   "file_extension": ".py",
   "mimetype": "text/x-python",
   "name": "python",
   "nbconvert_exporter": "python",
   "pygments_lexer": "ipython3",
   "version": "3.9.7"
  }
 },
 "nbformat": 4,
 "nbformat_minor": 5
}
